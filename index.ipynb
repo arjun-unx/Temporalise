{
 "cells": [
  {
   "cell_type": "code",
   "execution_count": 1,
   "metadata": {},
   "outputs": [],
   "source": [
    "import os\n",
    "import cv2\n",
    "import tensorflow as tf\n",
    "from typing import List\n",
    "from matplotlib import pyplot as plt\n",
    "import imageio"
   ]
  },
  {
   "cell_type": "code",
   "execution_count": 2,
   "metadata": {},
   "outputs": [],
   "source": [
    "# prevent exponentional memory growth\n",
    "physical_devices = tf.config.list_logical_devices('GPU')\n",
    "try:\n",
    "    tf.config.experimental.set_memory_growth(physical_devices[0],True)\n",
    "except:\n",
    "    pass"
   ]
  },
  {
   "cell_type": "code",
   "execution_count": null,
   "metadata": {},
   "outputs": [],
   "source": [
    "# two build functions one for image and one for dataset\n",
    "import gdown\n",
    "\n",
    "url = \"https://drive.google.com/uc?id=1YlvpDLix3S-U8fd-gqRwPcWXAXm8JwjL\"\n",
    "output = 'data.zip'\n",
    "gdown.download(url,output, quiet=False)\n",
    "gdown.extractall('data.zip')"
   ]
  },
  {
   "cell_type": "code",
   "execution_count": 3,
   "metadata": {},
   "outputs": [],
   "source": [
    "def load_video(path:str) -> List[float]:\n",
    "    # input the video path and return a list of frames\n",
    "    cap = cv2.VideoCapture(path)\n",
    "    frames = []\n",
    "    for _ in range(int(cap.get(cv2.CAP_PROP_FRAME_COUNT))):\n",
    "        ret, frame = cap.read()\n",
    "        frame = tf.image.rgb_to_grayscale(frame)\n",
    "        frames.append(frame[190:236,80:220,:])\n",
    "    cap.release()\n",
    "\n",
    "    # we normalize the frames\n",
    "    mean = tf.math.reduce_mean(frames)\n",
    "    std = tf.math.reduce_std(tf.cast(frames, tf.float32))\n",
    "    return tf.cast((frames - mean),tf.float32)/std\n"
   ]
  },
  {
   "cell_type": "code",
   "execution_count": 4,
   "metadata": {},
   "outputs": [],
   "source": [
    "vocab = [x for x in \"abcdefghijklmnopqrstuvwxyz'?!1234567890\"]"
   ]
  },
  {
   "cell_type": "code",
   "execution_count": 5,
   "metadata": {},
   "outputs": [
    {
     "name": "stdout",
     "output_type": "stream",
     "text": [
      "The vocabulary is: ['', 'a', 'b', 'c', 'd', 'e', 'f', 'g', 'h', 'i', 'j', 'k', 'l', 'm', 'n', 'o', 'p', 'q', 'r', 's', 't', 'u', 'v', 'w', 'x', 'y', 'z', \"'\", '?', '!', '1', '2', '3', '4', '5', '6', '7', '8', '9', '0'](size=40)\n"
     ]
    }
   ],
   "source": [
    "char_to_num = tf.keras.layers.StringLookup(vocabulary=vocab, oov_token=\"\")\n",
    "num_to_char = tf.keras.layers.StringLookup(\n",
    "    vocabulary=char_to_num.get_vocabulary(), oov_token=\"\",invert=True\n",
    ")\n",
    "\n",
    "print(\n",
    "    f\"The vocabulary is: {char_to_num.get_vocabulary()}\"\n",
    "    f\"(size={char_to_num.vocabulary_size()})\"\n",
    ")"
   ]
  },
  {
   "cell_type": "code",
   "execution_count": 6,
   "metadata": {},
   "outputs": [],
   "source": [
    "def load_alignments(path:str) -> List[str]:\n",
    "    with open(path,'r') as f:\n",
    "        lines = f.readlines()\n",
    "    tokens = []\n",
    "    for line in lines:\n",
    "        line = line.split()\n",
    "        # dont consider silences\n",
    "        if line[2] != 'sil':\n",
    "            # appending the words as token to existing tokens(words)\n",
    "            tokens = [*tokens,' ',line[2]]\n",
    "    return char_to_num(tf.reshape(tf.strings.unicode_split(tokens,input_encoding='UTF-8'),(-1)))[1:]"
   ]
  },
  {
   "cell_type": "code",
   "execution_count": 7,
   "metadata": {},
   "outputs": [],
   "source": [
    "def load_data(path: str):\n",
    "    # loading the data using path sent as a tensor\n",
    "    path = bytes.decode(path.numpy())\n",
    "    file_name = path.split('\\\\')[-1].split('.')[0]\n",
    "    video_path = os.path.join('data','s1',f'{file_name}.mpg')\n",
    "    alignment_path = os.path.join('data','alignments','s1',f'{file_name}.align')\n",
    "    frames = load_video(video_path)\n",
    "    alignments = load_alignments(alignment_path)\n",
    "\n",
    "    return frames,alignments"
   ]
  },
  {
   "cell_type": "code",
   "execution_count": 8,
   "metadata": {},
   "outputs": [],
   "source": [
    "test_path = '.\\\\data\\\\s1\\\\bbal6n.mpg'"
   ]
  },
  {
   "cell_type": "code",
   "execution_count": 9,
   "metadata": {},
   "outputs": [
    {
     "data": {
      "text/plain": [
       "'.\\\\data\\\\s1\\\\bbal6n.mpg'"
      ]
     },
     "execution_count": 9,
     "metadata": {},
     "output_type": "execute_result"
    }
   ],
   "source": [
    "tf.convert_to_tensor(test_path).numpy().decode('utf-8')"
   ]
  },
  {
   "cell_type": "code",
   "execution_count": 10,
   "metadata": {},
   "outputs": [],
   "source": [
    "frames,alignments = load_data(tf.convert_to_tensor(test_path))"
   ]
  },
  {
   "cell_type": "code",
   "execution_count": 11,
   "metadata": {},
   "outputs": [
    {
     "name": "stdout",
     "output_type": "stream",
     "text": [
      "tf.Tensor(\n",
      "[[[[ 1.4603739 ]\n",
      "   [ 1.4603739 ]\n",
      "   [ 1.4209043 ]\n",
      "   ...\n",
      "   [ 0.15787826]\n",
      "   [ 0.19734782]\n",
      "   [ 0.07893913]]\n",
      "\n",
      "  [[ 1.4603739 ]\n",
      "   [ 1.4603739 ]\n",
      "   [ 1.4209043 ]\n",
      "   ...\n",
      "   [ 0.15787826]\n",
      "   [ 0.07893913]\n",
      "   [ 0.03946957]]\n",
      "\n",
      "  [[ 1.4209043 ]\n",
      "   [ 1.4209043 ]\n",
      "   [ 1.3814348 ]\n",
      "   ...\n",
      "   [ 0.07893913]\n",
      "   [ 0.07893913]\n",
      "   [ 0.07893913]]\n",
      "\n",
      "  ...\n",
      "\n",
      "  [[ 0.94726956]\n",
      "   [ 0.94726956]\n",
      "   [ 0.94726956]\n",
      "   ...\n",
      "   [ 9.94633   ]\n",
      "   [ 9.867392  ]\n",
      "   [ 9.867392  ]]\n",
      "\n",
      "  [[ 0.94726956]\n",
      "   [ 0.94726956]\n",
      "   [ 0.94726956]\n",
      "   ...\n",
      "   [ 9.90686   ]\n",
      "   [ 9.867392  ]\n",
      "   [ 9.867392  ]]\n",
      "\n",
      "  [[ 0.94726956]\n",
      "   [ 0.94726956]\n",
      "   [ 0.94726956]\n",
      "   ...\n",
      "   [ 9.90686   ]\n",
      "   [ 9.867392  ]\n",
      "   [ 9.867392  ]]]\n",
      "\n",
      "\n",
      " [[[ 1.4209043 ]\n",
      "   [ 1.4209043 ]\n",
      "   [ 1.3419652 ]\n",
      "   ...\n",
      "   [ 0.19734782]\n",
      "   [ 0.11840869]\n",
      "   [ 0.15787826]]\n",
      "\n",
      "  [[ 1.4209043 ]\n",
      "   [ 1.4209043 ]\n",
      "   [ 1.3419652 ]\n",
      "   ...\n",
      "   [ 0.23681739]\n",
      "   [ 0.        ]\n",
      "   [ 0.03946957]]\n",
      "\n",
      "  [[ 1.3419652 ]\n",
      "   [ 1.3419652 ]\n",
      "   [ 1.3024956 ]\n",
      "   ...\n",
      "   [ 0.11840869]\n",
      "   [ 0.15787826]\n",
      "   [ 0.15787826]]\n",
      "\n",
      "  ...\n",
      "\n",
      "  [[ 0.94726956]\n",
      "   [ 0.94726956]\n",
      "   [ 0.94726956]\n",
      "   ...\n",
      "   [10.0252695 ]\n",
      "   [ 9.94633   ]\n",
      "   [ 9.94633   ]]\n",
      "\n",
      "  [[ 0.90779996]\n",
      "   [ 0.90779996]\n",
      "   [ 0.90779996]\n",
      "   ...\n",
      "   [ 9.94633   ]\n",
      "   [ 9.90686   ]\n",
      "   [ 9.90686   ]]\n",
      "\n",
      "  [[ 0.90779996]\n",
      "   [ 0.90779996]\n",
      "   [ 0.90779996]\n",
      "   ...\n",
      "   [ 9.94633   ]\n",
      "   [ 9.90686   ]\n",
      "   [ 9.90686   ]]]\n",
      "\n",
      "\n",
      " [[[ 1.4209043 ]\n",
      "   [ 1.4209043 ]\n",
      "   [ 1.3419652 ]\n",
      "   ...\n",
      "   [ 0.15787826]\n",
      "   [ 0.07893913]\n",
      "   [ 0.15787826]]\n",
      "\n",
      "  [[ 1.4209043 ]\n",
      "   [ 1.4209043 ]\n",
      "   [ 1.3419652 ]\n",
      "   ...\n",
      "   [ 0.27628696]\n",
      "   [ 0.03946957]\n",
      "   [ 0.15787826]]\n",
      "\n",
      "  [[ 1.3419652 ]\n",
      "   [ 1.3024956 ]\n",
      "   [ 1.3419652 ]\n",
      "   ...\n",
      "   [ 0.11840869]\n",
      "   [ 0.11840869]\n",
      "   [ 0.11840869]]\n",
      "\n",
      "  ...\n",
      "\n",
      "  [[ 0.9867391 ]\n",
      "   [ 0.9867391 ]\n",
      "   [ 0.94726956]\n",
      "   ...\n",
      "   [ 9.9858    ]\n",
      "   [ 9.9858    ]\n",
      "   [ 9.9858    ]]\n",
      "\n",
      "  [[ 0.94726956]\n",
      "   [ 0.94726956]\n",
      "   [ 0.90779996]\n",
      "   ...\n",
      "   [ 9.94633   ]\n",
      "   [ 9.90686   ]\n",
      "   [ 9.90686   ]]\n",
      "\n",
      "  [[ 0.94726956]\n",
      "   [ 0.94726956]\n",
      "   [ 0.90779996]\n",
      "   ...\n",
      "   [ 9.94633   ]\n",
      "   [ 9.90686   ]\n",
      "   [ 9.90686   ]]]\n",
      "\n",
      "\n",
      " ...\n",
      "\n",
      "\n",
      " [[[ 1.3814348 ]\n",
      "   [ 1.3814348 ]\n",
      "   [ 1.4209043 ]\n",
      "   ...\n",
      "   [ 0.19734782]\n",
      "   [ 0.15787826]\n",
      "   [ 0.07893913]]\n",
      "\n",
      "  [[ 1.3814348 ]\n",
      "   [ 1.3814348 ]\n",
      "   [ 1.4209043 ]\n",
      "   ...\n",
      "   [ 0.11840869]\n",
      "   [ 0.11840869]\n",
      "   [ 0.07893913]]\n",
      "\n",
      "  [[ 1.3024956 ]\n",
      "   [ 1.3024956 ]\n",
      "   [ 1.3024956 ]\n",
      "   ...\n",
      "   [ 0.11840869]\n",
      "   [ 0.11840869]\n",
      "   [ 0.15787826]]\n",
      "\n",
      "  ...\n",
      "\n",
      "  [[ 0.9867391 ]\n",
      "   [ 0.94726956]\n",
      "   [ 0.94726956]\n",
      "   ...\n",
      "   [ 9.90686   ]\n",
      "   [ 9.867392  ]\n",
      "   [ 9.867392  ]]\n",
      "\n",
      "  [[ 0.94726956]\n",
      "   [ 0.94726956]\n",
      "   [ 0.94726956]\n",
      "   ...\n",
      "   [ 9.90686   ]\n",
      "   [ 9.867392  ]\n",
      "   [ 9.867392  ]]\n",
      "\n",
      "  [[ 0.94726956]\n",
      "   [ 0.94726956]\n",
      "   [ 0.94726956]\n",
      "   ...\n",
      "   [ 9.90686   ]\n",
      "   [ 9.867392  ]\n",
      "   [ 9.867392  ]]]\n",
      "\n",
      "\n",
      " [[[ 1.3419652 ]\n",
      "   [ 1.3419652 ]\n",
      "   [ 1.3814348 ]\n",
      "   ...\n",
      "   [ 0.15787826]\n",
      "   [ 0.07893913]\n",
      "   [ 0.        ]]\n",
      "\n",
      "  [[ 1.3419652 ]\n",
      "   [ 1.3419652 ]\n",
      "   [ 1.3814348 ]\n",
      "   ...\n",
      "   [ 0.15787826]\n",
      "   [ 0.11840869]\n",
      "   [ 0.03946957]]\n",
      "\n",
      "  [[ 1.3024956 ]\n",
      "   [ 1.3024956 ]\n",
      "   [ 1.3024956 ]\n",
      "   ...\n",
      "   [ 0.11840869]\n",
      "   [ 0.07893913]\n",
      "   [ 0.11840869]]\n",
      "\n",
      "  ...\n",
      "\n",
      "  [[ 0.94726956]\n",
      "   [ 0.90779996]\n",
      "   [ 0.90779996]\n",
      "   ...\n",
      "   [ 9.867392  ]\n",
      "   [ 9.827922  ]\n",
      "   [ 9.827922  ]]\n",
      "\n",
      "  [[ 0.90779996]\n",
      "   [ 0.90779996]\n",
      "   [ 0.90779996]\n",
      "   ...\n",
      "   [ 9.867392  ]\n",
      "   [ 9.827922  ]\n",
      "   [ 9.827922  ]]\n",
      "\n",
      "  [[ 0.90779996]\n",
      "   [ 0.90779996]\n",
      "   [ 0.90779996]\n",
      "   ...\n",
      "   [ 9.867392  ]\n",
      "   [ 9.827922  ]\n",
      "   [ 9.827922  ]]]\n",
      "\n",
      "\n",
      " [[[ 1.3024956 ]\n",
      "   [ 1.3024956 ]\n",
      "   [ 1.3814348 ]\n",
      "   ...\n",
      "   [ 0.07893913]\n",
      "   [ 0.07893913]\n",
      "   [ 0.15787826]]\n",
      "\n",
      "  [[ 1.3024956 ]\n",
      "   [ 1.3024956 ]\n",
      "   [ 1.3814348 ]\n",
      "   ...\n",
      "   [ 0.        ]\n",
      "   [ 0.07893913]\n",
      "   [ 0.23681739]]\n",
      "\n",
      "  [[ 1.3419652 ]\n",
      "   [ 1.3419652 ]\n",
      "   [ 1.3419652 ]\n",
      "   ...\n",
      "   [ 0.07893913]\n",
      "   [ 0.07893913]\n",
      "   [ 0.07893913]]\n",
      "\n",
      "  ...\n",
      "\n",
      "  [[ 0.90779996]\n",
      "   [ 0.90779996]\n",
      "   [ 0.90779996]\n",
      "   ...\n",
      "   [ 9.90686   ]\n",
      "   [ 9.867392  ]\n",
      "   [ 9.867392  ]]\n",
      "\n",
      "  [[ 0.90779996]\n",
      "   [ 0.90779996]\n",
      "   [ 0.90779996]\n",
      "   ...\n",
      "   [ 9.94633   ]\n",
      "   [ 9.867392  ]\n",
      "   [ 9.867392  ]]\n",
      "\n",
      "  [[ 0.90779996]\n",
      "   [ 0.90779996]\n",
      "   [ 0.90779996]\n",
      "   ...\n",
      "   [ 9.94633   ]\n",
      "   [ 9.867392  ]\n",
      "   [ 9.867392  ]]]], shape=(75, 46, 140, 1), dtype=float32)\n"
     ]
    }
   ],
   "source": [
    "print(frames)"
   ]
  },
  {
   "cell_type": "code",
   "execution_count": 12,
   "metadata": {},
   "outputs": [
    {
     "name": "stdout",
     "output_type": "stream",
     "text": [
      "tf.Tensor(\n",
      "[[[1.4603739 ]\n",
      "  [1.4603739 ]\n",
      "  [1.4209043 ]\n",
      "  ...\n",
      "  [0.15787826]\n",
      "  [0.19734782]\n",
      "  [0.07893913]]\n",
      "\n",
      " [[1.4603739 ]\n",
      "  [1.4603739 ]\n",
      "  [1.4209043 ]\n",
      "  ...\n",
      "  [0.15787826]\n",
      "  [0.07893913]\n",
      "  [0.03946957]]\n",
      "\n",
      " [[1.4209043 ]\n",
      "  [1.4209043 ]\n",
      "  [1.3814348 ]\n",
      "  ...\n",
      "  [0.07893913]\n",
      "  [0.07893913]\n",
      "  [0.07893913]]\n",
      "\n",
      " ...\n",
      "\n",
      " [[0.94726956]\n",
      "  [0.94726956]\n",
      "  [0.94726956]\n",
      "  ...\n",
      "  [9.94633   ]\n",
      "  [9.867392  ]\n",
      "  [9.867392  ]]\n",
      "\n",
      " [[0.94726956]\n",
      "  [0.94726956]\n",
      "  [0.94726956]\n",
      "  ...\n",
      "  [9.90686   ]\n",
      "  [9.867392  ]\n",
      "  [9.867392  ]]\n",
      "\n",
      " [[0.94726956]\n",
      "  [0.94726956]\n",
      "  [0.94726956]\n",
      "  ...\n",
      "  [9.90686   ]\n",
      "  [9.867392  ]\n",
      "  [9.867392  ]]], shape=(46, 140, 1), dtype=float32)\n"
     ]
    },
    {
     "data": {
      "image/png": "[encoded data removed]",
      "text/plain": [
       "<Figure size 640x480 with 1 Axes>"
      ]
     },
     "metadata": {},
     "output_type": "display_data"
    }
   ],
   "source": [
    "plt.imshow(frames[0])\n",
    "print(frames[0])"
   ]
  },
  {
   "cell_type": "code",
   "execution_count": 13,
   "metadata": {},
   "outputs": [
    {
     "data": {
      "text/plain": [
       "'binblueatlsixnow'"
      ]
     },
     "execution_count": 13,
     "metadata": {},
     "output_type": "execute_result"
    }
   ],
   "source": [
    "bytes.decode(tf.strings.reduce_join([x for x in num_to_char(alignments)]).numpy())"
   ]
  },
  {
   "cell_type": "code",
   "execution_count": 68,
   "metadata": {},
   "outputs": [],
   "source": [
    "# helps use to get data from file name\n",
    "def mappable_function(path:str) -> List[str]:\n",
    "    result = tf.py_function(load_video, [path],(tf.float32,tf.int64))\n",
    "    return result"
   ]
  },
  {
   "cell_type": "code",
   "execution_count": 49,
   "metadata": {},
   "outputs": [],
   "source": [
    "#make a datapipeline\n",
    "\n",
    "data = tf.data.Dataset.list_files('./data/s1/*.mpg')\n",
    "# get 500 files\n",
    "data = data.shuffle(500,reshuffle_each_iteration=False)\n",
    "data = data.map(mappable_function)\n",
    "# using batches of 2 and padding the data to avoid uneven shape of alignment and frames\n",
    "data = data.padded_batch(2,padded_shapes=([75,None,None,None],[40]))\n",
    "# prefetching the data to avoid bottleneck\n",
    "data = data.prefetch(tf.data.AUTOTUNE)\n",
    "\n",
    "train = data.take(450)\n",
    "test = data.skip(450)"
   ]
  },
  {
   "cell_type": "code",
   "execution_count": 16,
   "metadata": {},
   "outputs": [
    {
     "data": {
      "text/plain": [
       "50"
      ]
     },
     "execution_count": 16,
     "metadata": {},
     "output_type": "execute_result"
    }
   ],
   "source": [
    "len(test)"
   ]
  },
  {
   "cell_type": "code",
   "execution_count": 22,
   "metadata": {},
   "outputs": [],
   "source": [
    "frames, alignments = data.as_numpy_iterator().next()"
   ]
  },
  {
   "cell_type": "code",
   "execution_count": 23,
   "metadata": {},
   "outputs": [
    {
     "data": {
      "text/plain": [
       "array([[ 2,  9, 14,  0, 23,  8,  9, 20,  5,  0,  2, 25,  0, 20,  0, 14,\n",
       "         9, 14,  5,  0,  1,  7,  1,  9, 14,  0,  0,  0,  0,  0,  0,  0,\n",
       "         0,  0,  0,  0,  0,  0,  0,  0]], dtype=int64)"
      ]
     },
     "execution_count": 23,
     "metadata": {},
     "output_type": "execute_result"
    }
   ],
   "source": [
    "alignments"
   ]
  },
  {
   "cell_type": "code",
   "execution_count": 24,
   "metadata": {},
   "outputs": [
    {
     "name": "stdout",
     "output_type": "stream",
     "text": [
      "(1, 75, 46, 140, 1)\n"
     ]
    }
   ],
   "source": [
    "print(frames.shape)"
   ]
  },
  {
   "cell_type": "code",
   "execution_count": 25,
   "metadata": {},
   "outputs": [],
   "source": [
    "test = data.as_numpy_iterator()\n",
    "\n",
    "# test has and array of [frames,alignments] inside those we have 2 video frames and 2 alignments"
   ]
  },
  {
   "cell_type": "code",
   "execution_count": 27,
   "metadata": {},
   "outputs": [
    {
     "data": {
      "text/plain": [
       "array([[[[[1.5059857 ],\n",
       "          [1.5059857 ],\n",
       "          [1.3957916 ],\n",
       "          ...,\n",
       "          [0.40404496],\n",
       "          [0.40404496],\n",
       "          [0.40404496]],\n",
       "\n",
       "         [[1.5059857 ],\n",
       "          [1.3590603 ],\n",
       "          [1.3590603 ],\n",
       "          ...,\n",
       "          [0.40404496],\n",
       "          [0.40404496],\n",
       "          [0.40404496]],\n",
       "\n",
       "         [[1.432523  ],\n",
       "          [1.432523  ],\n",
       "          [1.432523  ],\n",
       "          ...,\n",
       "          [0.33058223],\n",
       "          [0.2571195 ],\n",
       "          [0.2571195 ]],\n",
       "\n",
       "         ...,\n",
       "\n",
       "         [[1.0652094 ],\n",
       "          [1.0652094 ],\n",
       "          [1.0652094 ],\n",
       "          ...,\n",
       "          [0.14692543],\n",
       "          [0.14692543],\n",
       "          [0.14692543]],\n",
       "\n",
       "         [[1.0652094 ],\n",
       "          [1.0652094 ],\n",
       "          [1.0652094 ],\n",
       "          ...,\n",
       "          [0.11019408],\n",
       "          [0.11019408],\n",
       "          [0.11019408]],\n",
       "\n",
       "         [[1.0652094 ],\n",
       "          [1.0652094 ],\n",
       "          [1.0652094 ],\n",
       "          ...,\n",
       "          [0.11019408],\n",
       "          [0.11019408],\n",
       "          [0.07346272]]],\n",
       "\n",
       "\n",
       "        [[[1.4692544 ],\n",
       "          [1.5427171 ],\n",
       "          [1.432523  ],\n",
       "          ...,\n",
       "          [0.3673136 ],\n",
       "          [0.3673136 ],\n",
       "          [0.3673136 ]],\n",
       "\n",
       "         [[1.5427171 ],\n",
       "          [1.4692544 ],\n",
       "          [1.3957916 ],\n",
       "          ...,\n",
       "          [0.3673136 ],\n",
       "          [0.3673136 ],\n",
       "          [0.3673136 ]],\n",
       "\n",
       "         [[1.5059857 ],\n",
       "          [1.5059857 ],\n",
       "          [1.432523  ],\n",
       "          ...,\n",
       "          [0.3673136 ],\n",
       "          [0.33058223],\n",
       "          [0.33058223]],\n",
       "\n",
       "         ...,\n",
       "\n",
       "         [[1.0652094 ],\n",
       "          [1.0652094 ],\n",
       "          [1.0652094 ],\n",
       "          ...,\n",
       "          [0.14692543],\n",
       "          [0.14692543],\n",
       "          [0.14692543]],\n",
       "\n",
       "         [[1.0652094 ],\n",
       "          [1.0652094 ],\n",
       "          [1.0652094 ],\n",
       "          ...,\n",
       "          [0.11019408],\n",
       "          [0.11019408],\n",
       "          [0.07346272]],\n",
       "\n",
       "         [[1.0652094 ],\n",
       "          [1.0652094 ],\n",
       "          [1.0652094 ],\n",
       "          ...,\n",
       "          [0.11019408],\n",
       "          [0.07346272],\n",
       "          [0.07346272]]],\n",
       "\n",
       "\n",
       "        [[[1.432523  ],\n",
       "          [1.5059857 ],\n",
       "          [1.3957916 ],\n",
       "          ...,\n",
       "          [0.3673136 ],\n",
       "          [0.3673136 ],\n",
       "          [0.3673136 ]],\n",
       "\n",
       "         [[1.432523  ],\n",
       "          [1.5059857 ],\n",
       "          [1.4692544 ],\n",
       "          ...,\n",
       "          [0.3673136 ],\n",
       "          [0.3673136 ],\n",
       "          [0.3673136 ]],\n",
       "\n",
       "         [[1.4692544 ],\n",
       "          [1.4692544 ],\n",
       "          [1.432523  ],\n",
       "          ...,\n",
       "          [0.40404496],\n",
       "          [0.3673136 ],\n",
       "          [0.3673136 ]],\n",
       "\n",
       "         ...,\n",
       "\n",
       "         [[1.0652094 ],\n",
       "          [1.0652094 ],\n",
       "          [1.0652094 ],\n",
       "          ...,\n",
       "          [0.11019408],\n",
       "          [0.11019408],\n",
       "          [0.11019408]],\n",
       "\n",
       "         [[1.0652094 ],\n",
       "          [1.0652094 ],\n",
       "          [1.0652094 ],\n",
       "          ...,\n",
       "          [0.11019408],\n",
       "          [0.11019408],\n",
       "          [0.07346272]],\n",
       "\n",
       "         [[1.0652094 ],\n",
       "          [1.0652094 ],\n",
       "          [1.0652094 ],\n",
       "          ...,\n",
       "          [0.11019408],\n",
       "          [0.07346272],\n",
       "          [0.07346272]]],\n",
       "\n",
       "\n",
       "        ...,\n",
       "\n",
       "\n",
       "        [[[1.432523  ],\n",
       "          [1.3223289 ],\n",
       "          [1.432523  ],\n",
       "          ...,\n",
       "          [0.3673136 ],\n",
       "          [0.33058223],\n",
       "          [0.33058223]],\n",
       "\n",
       "         [[1.3223289 ],\n",
       "          [1.5794485 ],\n",
       "          [1.3223289 ],\n",
       "          ...,\n",
       "          [0.3673136 ],\n",
       "          [0.33058223],\n",
       "          [0.33058223]],\n",
       "\n",
       "         [[1.4692544 ],\n",
       "          [1.432523  ],\n",
       "          [1.432523  ],\n",
       "          ...,\n",
       "          [0.3673136 ],\n",
       "          [0.3673136 ],\n",
       "          [0.3673136 ]],\n",
       "\n",
       "         ...,\n",
       "\n",
       "         [[1.0652094 ],\n",
       "          [1.0652094 ],\n",
       "          [1.0652094 ],\n",
       "          ...,\n",
       "          [0.14692543],\n",
       "          [0.14692543],\n",
       "          [0.11019408]],\n",
       "\n",
       "         [[1.0652094 ],\n",
       "          [1.0652094 ],\n",
       "          [1.0652094 ],\n",
       "          ...,\n",
       "          [0.11019408],\n",
       "          [0.11019408],\n",
       "          [0.11019408]],\n",
       "\n",
       "         [[1.028478  ],\n",
       "          [1.028478  ],\n",
       "          [1.028478  ],\n",
       "          ...,\n",
       "          [0.11019408],\n",
       "          [0.11019408],\n",
       "          [0.07346272]]],\n",
       "\n",
       "\n",
       "        [[[1.5059857 ],\n",
       "          [1.3957916 ],\n",
       "          [1.3957916 ],\n",
       "          ...,\n",
       "          [0.40404496],\n",
       "          [0.3673136 ],\n",
       "          [0.3673136 ]],\n",
       "\n",
       "         [[1.5059857 ],\n",
       "          [1.4692544 ],\n",
       "          [1.432523  ],\n",
       "          ...,\n",
       "          [0.40404496],\n",
       "          [0.3673136 ],\n",
       "          [0.3673136 ]],\n",
       "\n",
       "         [[1.5427171 ],\n",
       "          [1.4692544 ],\n",
       "          [1.4692544 ],\n",
       "          ...,\n",
       "          [0.33058223],\n",
       "          [0.33058223],\n",
       "          [0.33058223]],\n",
       "\n",
       "         ...,\n",
       "\n",
       "         [[1.0652094 ],\n",
       "          [1.0652094 ],\n",
       "          [1.0652094 ],\n",
       "          ...,\n",
       "          [0.14692543],\n",
       "          [0.11019408],\n",
       "          [0.07346272]],\n",
       "\n",
       "         [[1.0652094 ],\n",
       "          [1.0652094 ],\n",
       "          [1.0652094 ],\n",
       "          ...,\n",
       "          [0.07346272],\n",
       "          [0.07346272],\n",
       "          [0.07346272]],\n",
       "\n",
       "         [[1.028478  ],\n",
       "          [1.028478  ],\n",
       "          [1.028478  ],\n",
       "          ...,\n",
       "          [0.07346272],\n",
       "          [0.07346272],\n",
       "          [0.03673136]]],\n",
       "\n",
       "\n",
       "        [[[1.4692544 ],\n",
       "          [1.3957916 ],\n",
       "          [1.432523  ],\n",
       "          ...,\n",
       "          [0.40404496],\n",
       "          [0.3673136 ],\n",
       "          [0.3673136 ]],\n",
       "\n",
       "         [[1.5427171 ],\n",
       "          [1.5059857 ],\n",
       "          [1.432523  ],\n",
       "          ...,\n",
       "          [0.40404496],\n",
       "          [0.3673136 ],\n",
       "          [0.3673136 ]],\n",
       "\n",
       "         [[1.432523  ],\n",
       "          [1.3957916 ],\n",
       "          [1.432523  ],\n",
       "          ...,\n",
       "          [0.2571195 ],\n",
       "          [0.2571195 ],\n",
       "          [0.2571195 ]],\n",
       "\n",
       "         ...,\n",
       "\n",
       "         [[1.0652094 ],\n",
       "          [1.0652094 ],\n",
       "          [1.0652094 ],\n",
       "          ...,\n",
       "          [0.1836568 ],\n",
       "          [0.14692543],\n",
       "          [0.11019408]],\n",
       "\n",
       "         [[1.0652094 ],\n",
       "          [1.0652094 ],\n",
       "          [1.0652094 ],\n",
       "          ...,\n",
       "          [0.11019408],\n",
       "          [0.11019408],\n",
       "          [0.11019408]],\n",
       "\n",
       "         [[1.0652094 ],\n",
       "          [1.028478  ],\n",
       "          [1.028478  ],\n",
       "          ...,\n",
       "          [0.11019408],\n",
       "          [0.11019408],\n",
       "          [0.07346272]]]]], dtype=float32)"
      ]
     },
     "execution_count": 27,
     "metadata": {},
     "output_type": "execute_result"
    }
   ],
   "source": [
    "val = test.next(); \n",
    "val[0]"
   ]
  },
  {
   "cell_type": "code",
   "execution_count": 33,
   "metadata": {},
   "outputs": [
    {
     "data": {
      "text/plain": [
       "<matplotlib.image.AxesImage at 0x16d002434c0>"
      ]
     },
     "execution_count": 33,
     "metadata": {},
     "output_type": "execute_result"
    },
    {
     "data": {
      "image/png": "[encoded data removed]",
      "text/plain": [
       "<Figure size 640x480 with 1 Axes>"
      ]
     },
     "metadata": {},
     "output_type": "display_data"
    }
   ],
   "source": [
    "plt.imshow(val[0][0][30])"
   ]
  },
  {
   "cell_type": "code",
   "execution_count": 35,
   "metadata": {},
   "outputs": [
    {
     "data": {
      "text/plain": [
       "<tf.Tensor: shape=(), dtype=string, numpy=b'placewhitewithezeronow'>"
      ]
     },
     "execution_count": 35,
     "metadata": {},
     "output_type": "execute_result"
    }
   ],
   "source": [
    "tf.strings.reduce_join([num_to_char(word) for word in val[1]])"
   ]
  },
  {
   "cell_type": "code",
   "execution_count": 36,
   "metadata": {},
   "outputs": [],
   "source": [
    "from tensorflow.keras.models import Sequential\n",
    "from tensorflow.keras.layers import Conv3D,LSTM,Dense,Dropout,Bidirectional, MaxPool3D,Reshape,SpatialDropout3D,BatchNormalization,TimeDistributed,Flatten,Activation\n",
    "from tensorflow.keras.optimizers import Adam\n",
    "from tensorflow.keras.callbacks import ModelCheckpoint, LearningRateScheduler"
   ]
  },
  {
   "cell_type": "code",
   "execution_count": 37,
   "metadata": {},
   "outputs": [],
   "source": [
    "model = Sequential()\n",
    "# conv3D used for video processing input shape is the shape of each frame and 128 output filters and 3 is 3d kernel size\n",
    "model.add(Conv3D(128,3,input_shape=(75,46,140,1),padding='same'))\n",
    "# to get some non linearities\n",
    "model.add(Activation('relu'))\n",
    "# takes max values of each frame and condences into 2x2 kernel\n",
    "model.add(MaxPool3D((1,2,2)))\n",
    "\n",
    "# 2nd layer with 256 output filters\n",
    "model.add(Conv3D(256,3,padding='same'))\n",
    "model.add(Activation('relu'))\n",
    "model.add(MaxPool3D((1,2,2)))\n",
    "\n",
    "model.add(Conv3D(75,3,padding='same'))\n",
    "model.add(Activation('relu'))\n",
    "model.add(MaxPool3D((1,2,2)))\n",
    "\n",
    "# flatten the output to feed into dense layer\n",
    "model.add(TimeDistributed(Flatten()))\n",
    "\n",
    "# 2 layer LSTM\n",
    "# return_sequences=True means it will return the output of each time step\n",
    "# dropout to prevent overfitting\n",
    "# kernel_initializer='Orthogonal' to prevent vanishing gradient problem\n",
    "# 128 is the number of hidden units\n",
    "model.add(Bidirectional(LSTM(128, kernel_initializer='Orthogonal',return_sequences=True)))\n",
    "model.add(Dropout(.5))\n",
    "\n",
    "model.add(Bidirectional(LSTM(128, kernel_initializer='Orthogonal',return_sequences=True)))\n",
    "model.add(Dropout(.5))\n",
    "\n",
    "# dense layer with softmax activation\n",
    "# output in the form of one hot encoding of the characters in the vocabulary + 1 for blank character\n",
    "# using softmax activation to get the probability of each character then take the max probability using argmax\n",
    "model.add(Dense(char_to_num.vocabulary_size()+1, kernel_initializer='he_normal',activation='softmax'))"
   ]
  },
  {
   "cell_type": "code",
   "execution_count": 38,
   "metadata": {},
   "outputs": [
    {
     "name": "stdout",
     "output_type": "stream",
     "text": [
      "Model: \"sequential\"\n",
      "_________________________________________________________________\n",
      " Layer (type)                Output Shape              Param #   \n",
      "=================================================================\n",
      " conv3d (Conv3D)             (None, 75, 46, 140, 128)  3584      \n",
      "                                                                 \n",
      " activation (Activation)     (None, 75, 46, 140, 128)  0         \n",
      "                                                                 \n",
      " max_pooling3d (MaxPooling3D  (None, 75, 23, 70, 128)  0         \n",
      " )                                                               \n",
      "                                                                 \n",
      " conv3d_1 (Conv3D)           (None, 75, 23, 70, 256)   884992    \n",
      "                                                                 \n",
      " activation_1 (Activation)   (None, 75, 23, 70, 256)   0         \n",
      "                                                                 \n",
      " max_pooling3d_1 (MaxPooling  (None, 75, 11, 35, 256)  0         \n",
      " 3D)                                                             \n",
      "                                                                 \n",
      " conv3d_2 (Conv3D)           (None, 75, 11, 35, 75)    518475    \n",
      "                                                                 \n",
      " activation_2 (Activation)   (None, 75, 11, 35, 75)    0         \n",
      "                                                                 \n",
      " max_pooling3d_2 (MaxPooling  (None, 75, 5, 17, 75)    0         \n",
      " 3D)                                                             \n",
      "                                                                 \n",
      " time_distributed (TimeDistr  (None, 75, 6375)         0         \n",
      " ibuted)                                                         \n",
      "                                                                 \n",
      " bidirectional (Bidirectiona  (None, 75, 256)          6660096   \n",
      " l)                                                              \n",
      "                                                                 \n",
      " dropout (Dropout)           (None, 75, 256)           0         \n",
      "                                                                 \n",
      " bidirectional_1 (Bidirectio  (None, 75, 256)          394240    \n",
      " nal)                                                            \n",
      "                                                                 \n",
      " dropout_1 (Dropout)         (None, 75, 256)           0         \n",
      "                                                                 \n",
      " dense (Dense)               (None, 75, 41)            10537     \n",
      "                                                                 \n",
      "=================================================================\n",
      "Total params: 8,471,924\n",
      "Trainable params: 8,471,924\n",
      "Non-trainable params: 0\n",
      "_________________________________________________________________\n",
      "None\n"
     ]
    }
   ],
   "source": [
    "print(model.summary())"
   ]
  },
  {
   "cell_type": "code",
   "execution_count": 40,
   "metadata": {},
   "outputs": [
    {
     "name": "stdout",
     "output_type": "stream",
     "text": [
      "1/1 [==============================] - 13s 13s/step\n"
     ]
    }
   ],
   "source": [
    "# test prediction\n",
    "yhat = model.predict(val[0])"
   ]
  },
  {
   "cell_type": "code",
   "execution_count": 42,
   "metadata": {},
   "outputs": [
    {
     "data": {
      "text/plain": [
       "'3y8afuaa56anae'"
      ]
     },
     "execution_count": 42,
     "metadata": {},
     "output_type": "execute_result"
    }
   ],
   "source": [
    "bytes.decode(tf.strings.reduce_join([num_to_char(tf.argmax(x)) for x in yhat]).numpy())"
   ]
  },
  {
   "cell_type": "code",
   "execution_count": 43,
   "metadata": {},
   "outputs": [],
   "source": [
    "# function to define learning rate scheduler\n",
    "def scheduler(epoch, lr):\n",
    "    if epoch < 30:\n",
    "        return lr\n",
    "    else:\n",
    "        return lr*tf.math.exp(-0.1)"
   ]
  },
  {
   "cell_type": "code",
   "execution_count": 44,
   "metadata": {},
   "outputs": [],
   "source": [
    "def CTCLoss(y_true,y_pred):\n",
    "    # loss function for CTC. used for training to reduce the loss\n",
    "    batch_len = tf.cast(tf.shape(y_true)[0],dtype=\"int64\")\n",
    "    input_length = tf.cast(tf.shape(y_pred)[1],dtype=\"int64\")\n",
    "    label_length = tf.cast(tf.shape(y_true)[1],dtype=\"int64\")\n",
    "\n",
    "    input_length = input_length * tf.ones(shape=(batch_len,1),dtype=\"int64\")\n",
    "    label_length = label_length * tf.ones(shape=(batch_len,1),dtype=\"int64\")\n",
    "\n",
    "    loss = tf.keras.backend.ctc_batch_cost(y_true,y_pred,input_length,label_length)\n",
    "    return loss"
   ]
  },
  {
   "cell_type": "code",
   "execution_count": 45,
   "metadata": {},
   "outputs": [],
   "source": [
    "class ProduceExample(tf.keras.callbacks.Callback):\n",
    "    def __init__(self,dataset):\n",
    "        self.dataset = dataset.as_numpy_iterator()\n",
    "    # on epoch end, print an example of text prediction\n",
    "    def on_epoch_end(self, epoch, logs=None):\n",
    "        data = self.dataset.next()\n",
    "        yhat = self.model.predict(data[0])\n",
    "        decoded = tf.keras.backend.ctc_decode(yhat,[75,75],greedy=False)[0][0].numpy()\n",
    "        for x in range(len(yhat)):\n",
    "            print('Original:', tf.strings.reduce_join(num_to_char(data[1][x])).numpy().decode('utf-8'))\n",
    "            print('Prediction:', tf.strings.reduce_join(num_to_char(decoded[x])).numpy().decode('utf-8'))\n",
    "            print('~'*100)"
   ]
  },
  {
   "cell_type": "code",
   "execution_count": 46,
   "metadata": {},
   "outputs": [],
   "source": [
    "optimizer = tf.keras.optimizers.legacy.Adam(learning_rate=0.0001)\n",
    "# typical keras model compilation\n",
    "model.compile(optimizer,loss=CTCLoss)"
   ]
  },
  {
   "cell_type": "code",
   "execution_count": 47,
   "metadata": {},
   "outputs": [],
   "source": [
    "# to store the model checkpoints\n",
    "checkpoint_callback = ModelCheckpoint(os.path.join('models','checkpoint'),monitor='loss',save_weights_only=True)"
   ]
  },
  {
   "cell_type": "code",
   "execution_count": 50,
   "metadata": {},
   "outputs": [],
   "source": [
    "# used to drop the learning rate after a certain number of epochs\n",
    "schedule_callback = LearningRateScheduler(scheduler)\n",
    "# used to print the example predictions\n",
    "example_callback = ProduceExample(test)"
   ]
  },
  {
   "cell_type": "code",
   "execution_count": null,
   "metadata": {},
   "outputs": [],
   "source": [
    "# trainning the model\n",
    "model.fit(train, validation_data=test, epochs=100, callbacks=[checkpoint_callback, schedule_callback, example_callback])"
   ]
  },
  {
   "cell_type": "code",
   "execution_count": 51,
   "metadata": {},
   "outputs": [
    {
     "data": {
      "text/plain": [
       "<tensorflow.python.checkpoint.checkpoint.CheckpointLoadStatus at 0x16d01ff7fa0>"
      ]
     },
     "execution_count": 51,
     "metadata": {},
     "output_type": "execute_result"
    }
   ],
   "source": [
    "# loading a trained model\n",
    "model.load_weights('models/checkpoint')"
   ]
  },
  {
   "cell_type": "code",
   "execution_count": 52,
   "metadata": {},
   "outputs": [],
   "source": [
    "test_data = test.as_numpy_iterator()"
   ]
  },
  {
   "cell_type": "code",
   "execution_count": 53,
   "metadata": {},
   "outputs": [],
   "source": [
    "sample = test_data.next()"
   ]
  },
  {
   "cell_type": "code",
   "execution_count": 54,
   "metadata": {},
   "outputs": [
    {
     "name": "stdout",
     "output_type": "stream",
     "text": [
      "(1, 75, 46, 140, 1)\n"
     ]
    }
   ],
   "source": [
    "print(sample[0].shape)"
   ]
  },
  {
   "cell_type": "code",
   "execution_count": 55,
   "metadata": {},
   "outputs": [
    {
     "name": "stdout",
     "output_type": "stream",
     "text": [
      "1/1 [==============================] - 9s 9s/step\n"
     ]
    }
   ],
   "source": [
    "yhat = model.predict(sample[0])"
   ]
  },
  {
   "cell_type": "code",
   "execution_count": 56,
   "metadata": {},
   "outputs": [
    {
     "name": "stdout",
     "output_type": "stream",
     "text": [
      "(1, 75, 41)\n"
     ]
    }
   ],
   "source": [
    "print(yhat.shape)"
   ]
  },
  {
   "cell_type": "code",
   "execution_count": 61,
   "metadata": {},
   "outputs": [],
   "source": [
    "decoded = tf.keras.backend.ctc_decode(yhat,input_length=[75], greedy=True)[0][0].numpy()"
   ]
  },
  {
   "cell_type": "code",
   "execution_count": 62,
   "metadata": {},
   "outputs": [
    {
     "name": "stdout",
     "output_type": "stream",
     "text": [
      "~~~~~~~~~~~~~~~~~~~~~~~~~~~~~~~~~~~~~~~~~~~~~~~~~~~~~~~~~~~~~~~~~~~~~~~~~~~~~~~~~~~~~~~~~~~~~~~~~~~~ REAL TEXT\n"
     ]
    },
    {
     "data": {
      "text/plain": [
       "[<tf.Tensor: shape=(), dtype=string, numpy=b'setwhiteatueightnow'>]"
      ]
     },
     "execution_count": 62,
     "metadata": {},
     "output_type": "execute_result"
    }
   ],
   "source": [
    "print('~'*100,'REAL TEXT')\n",
    "[tf.strings.reduce_join([num_to_char(word) for word in sentence]) for sentence in sample[1]]"
   ]
  },
  {
   "cell_type": "code",
   "execution_count": 63,
   "metadata": {},
   "outputs": [
    {
     "name": "stdout",
     "output_type": "stream",
     "text": [
      "~~~~~~~~~~~~~~~~~~~~~~~~~~~~~~~~~~~~~~~~~~~~~~~~~~~~~~~~~~~~~~~~~~~~~~~~~~~~~~~~~~~~~~~~~~~~~~~~~~~~ PREDICTIONS\n"
     ]
    },
    {
     "data": {
      "text/plain": [
       "[<tf.Tensor: shape=(), dtype=string, numpy=b'set0white0at0u0eight0now'>]"
      ]
     },
     "execution_count": 63,
     "metadata": {},
     "output_type": "execute_result"
    }
   ],
   "source": [
    "print('~'*100,'PREDICTIONS')\n",
    "[tf.strings.reduce_join([num_to_char(word) for word in sentence]) for sentence in decoded]"
   ]
  }
 ],
 "metadata": {
  "kernelspec": {
   "display_name": "Python 3",
   "language": "python",
   "name": "python3"
  },
  "language_info": {
   "codemirror_mode": {
    "name": "ipython",
    "version": 3
   },
   "file_extension": ".py",
   "mimetype": "text/x-python",
   "name": "python",
   "nbconvert_exporter": "python",
   "pygments_lexer": "ipython3",
   "version": "3.10.11"
  },
  "orig_nbformat": 4
 },
 "nbformat": 4,
 "nbformat_minor": 2
}
